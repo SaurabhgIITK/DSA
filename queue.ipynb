{
 "cells": [
  {
   "cell_type": "markdown",
   "metadata": {},
   "source": [
    "## Queue\n",
    "A queue data structure is similar to the ticket queue outside a cinema hall, where the first person entering the queue is the first person who gets the ticket.\n",
    "\n",
    "Queue follows the First In First Out (FIFO) rule - the item that goes in first is the item that comes out first. \n",
    "![Queue](images/queue.png)"
   ]
  },
  {
   "cell_type": "markdown",
   "metadata": {},
   "source": [
    "In programming terms, putting items in the queue is called enqueue, and removing items from the queue is called dequeue.\n",
    "\n",
    "Basic Operations of Queue:\n",
    "A queue is an object (an abstract data structure - ADT) that allows the following operations:\n",
    "\n",
    "- Enqueue: Add an element to the end of the queue\n",
    "- Dequeue: Remove an element from the front of the queue\n",
    "- IsEmpty: Check if the queue is empty\n",
    "- IsFull: Check if the queue is full\n",
    "- Peek: Get the value of the front of the queue without removing it\n",
    "\n",
    "\n",
    "**Working of Queue**\n",
    "Queue operations work as follows:\n",
    "\n",
    "- two pointers FRONT and REAR\n",
    "- FRONT track the first element of the queue\n",
    "- REAR track the last element of the queue\n",
    "- initially, set value of FRONT and REAR to -1\n",
    "\n",
    "**Enqueue Operation**\n",
    "- check if the queue is full\n",
    "- for the first element, set the value of FRONT to 0\n",
    "- increase the REAR index by 1\n",
    "- add the new element in the position pointed to by REAR\n",
    "\n",
    "**Dequeue Operation**\n",
    "- check if the queue is empty\n",
    "- return the value pointed by FRONT\n",
    "- increase the FRONT index by 1\n",
    "- for the last element, reset the values of FRONT and REAR to -1\n",
    "\n",
    "![enqueue-dequeue](images/enqueue-dequeue.png)"
   ]
  },
  {
   "cell_type": "code",
   "execution_count": 1,
   "metadata": {},
   "outputs": [
    {
     "name": "stdout",
     "output_type": "stream",
     "text": [
      "[1, 2, 3, 4, 5]\n",
      "After removing an element\n",
      "[2, 3, 4, 5]\n"
     ]
    }
   ],
   "source": [
    "# Queue implementation in Python\n",
    "\n",
    "class Queue:\n",
    "\n",
    "    def __init__(self):\n",
    "        self.queue = []\n",
    "\n",
    "    # Add an element\n",
    "    def enqueue(self, item):\n",
    "        self.queue.append(item)\n",
    "\n",
    "    # Remove an element\n",
    "    def dequeue(self):\n",
    "        if len(self.queue) < 1:\n",
    "            return None\n",
    "        return self.queue.pop(0)\n",
    "\n",
    "    # Display  the queue\n",
    "    def display(self):\n",
    "        print(self.queue)\n",
    "\n",
    "    def size(self):\n",
    "        return len(self.queue)\n",
    "\n",
    "\n",
    "q = Queue()\n",
    "q.enqueue(1)\n",
    "q.enqueue(2)\n",
    "q.enqueue(3)\n",
    "q.enqueue(4)\n",
    "q.enqueue(5)\n",
    "\n",
    "q.display()\n",
    "\n",
    "q.dequeue()\n",
    "\n",
    "print(\"After removing an element\")\n",
    "q.display()\n"
   ]
  },
  {
   "cell_type": "markdown",
   "metadata": {},
   "source": [
    "### Limitations of Queue\n",
    "\n",
    "- After a bit of enqueuing and dequeuing, the size of the queue reduces.\n",
    "\n",
    "**Complexity Analysis**\n",
    "\n",
    "The complexity of enqueue and dequeue operations in a queue using an array is O(1). If you use pop(N) in python code, then the complexity might be O(n) depending on the position of the item to be popped.\n",
    "\n",
    "\n",
    "\n",
    "**Applications of Queue**\n",
    "\n",
    "- CPU scheduling, Disk Scheduling\n",
    "- When data is transferred asynchronously between two processes.The queue is used for synchronization. For example: IO Buffers, pipes, file IO, etc\n",
    "- Handling of interrupts in real-time systems.\n",
    "- Call Center phone systems use Queues to hold people calling them in order."
   ]
  },
  {
   "cell_type": "markdown",
   "metadata": {},
   "source": [
    "### Types of Queues\n",
    "\n",
    "A queue is a useful data structure in programming. It is similar to the ticket queue outside a cinema hall, where the first person entering the queue is the first person who gets the ticket.\n",
    "\n",
    "There are four different types of queues:\n",
    "\n",
    "- Simple Queue\n",
    "- Circular Queue\n",
    "- Priority Queue\n",
    "- Double Ended Queue\n"
   ]
  },
  {
   "cell_type": "markdown",
   "metadata": {},
   "source": [
    "**Simple Queue**\n",
    "\n",
    "In a simple queue, insertion takes place at the rear and removal occurs at the front. It strictly follows the FIFO (First in First out) rule. ![simple-queue.png](images/simple-queue.png)"
   ]
  },
  {
   "cell_type": "markdown",
   "metadata": {},
   "source": [
    "**Circular Queue***\n",
    "\n",
    "In a circular queue, the last element points to the first element making a circular link.\n",
    "![circular_queue.png](images/circular-queue.png)"
   ]
  },
  {
   "cell_type": "markdown",
   "metadata": {},
   "source": [
    "The main advantage of a circular queue over a simple queue is better memory utilization. If the last position is full and the first position is empty, we can insert an element in the first position. This action is not possible in a simple queue."
   ]
  },
  {
   "cell_type": "markdown",
   "metadata": {},
   "source": [
    "**Priority Queue**\n",
    "\n",
    "A priority queue is a special type of queue in which each element is associated with a priority and is served according to its priority. If elements with the same priority occur, they are served according to their order in the queue. ![priority-queue.png](images/priority-queue.png)"
   ]
  },
  {
   "cell_type": "markdown",
   "metadata": {},
   "source": [
    "Insertion occurs based on the arrival of the values and removal occurs based on priority"
   ]
  },
  {
   "cell_type": "markdown",
   "metadata": {},
   "source": [
    "**Deque (Double Ended Queue)**\n",
    "\n",
    "In a double ended queue, insertion and removal of elements can be performed from either from the front or rear. Thus, it does not follow the FIFO (First In First Out) rule. ![double-ended-queue.png](images/double-ended-queue.png)\n",
    "\n"
   ]
  },
  {
   "cell_type": "markdown",
   "metadata": {},
   "source": [
    "**Circular Queue Data Structure**\n",
    "\n",
    "A circular queue is the extended version of a regular queue where the last element is connected to the first element. Thus forming a circle-like structure. ![circular_queue](images/circular-increment.png)"
   ]
  },
  {
   "cell_type": "markdown",
   "metadata": {},
   "source": [
    "The circular queue solves the major limitation of the normal queue. In a normal queue, after a bit of insertion and deletion, there will be non-usable empty space. ![why-circular-queue.png](images/why-circular-queue.png)"
   ]
  },
  {
   "cell_type": "markdown",
   "metadata": {},
   "source": [
    "Here, indexes 0 and 1 can only be used after resetting the queue (deletion of all elements). This reduces the actual size of the queue."
   ]
  },
  {
   "cell_type": "markdown",
   "metadata": {},
   "source": [
    "**How Circular Queue Works**\n",
    "\n",
    "Circular Queue works by the process of circular increment i.e. when we try to increment the pointer and we reach the end of the queue, we start from the beginning of the queue.\n",
    "\n",
    "Here, the circular increment is performed by modulo division with the queue size. That is,"
   ]
  },
  {
   "cell_type": "markdown",
   "metadata": {},
   "source": [
    "**Circular Queue Operations**\n",
    "\n",
    "The circular queue work as follows:\n",
    "two pointers FRONT and REAR FRONT track the first element of the queue REAR track the last elements of the queue initially, set value of FRONT and REAR to -1.\n",
    "\n",
    "1. Enqueue Operation\n",
    "check if the queue is full\n",
    "for the first element, set value of FRONT to 0\n",
    "circularly increase the REAR index by 1 (i.e. if the rear reaches the end, next it would be at the start of the queue)\n",
    "add the new element in the position pointed to by REAR\n",
    "2. Dequeue Operation\n",
    "check if the queue is empty\n",
    "return the value pointed by FRONT\n",
    "circularly increase the FRONT index by 1\n",
    "for the last element, reset the values of FRONT and REAR to -1"
   ]
  },
  {
   "cell_type": "markdown",
   "metadata": {},
   "source": [
    "However, the check for full queue has a new additional case:\n",
    "\n",
    "Case 1: FRONT = 0 && REAR == SIZE - 1\n",
    "Case 2: FRONT = REAR + 1\n",
    "The second case happens when REAR starts from 0 due to circular increment and when its value is just 1 less than FRONT, the queue is full. \n",
    "![circular-queue-program.png](images/circular-queue-program.png)"
   ]
  },
  {
   "cell_type": "markdown",
   "metadata": {},
   "source": []
  },
  {
   "cell_type": "code",
   "execution_count": 1,
   "metadata": {},
   "outputs": [
    {
     "name": "stdout",
     "output_type": "stream",
     "text": [
      "Initial queue\n",
      "1 2 3 4 5 \n",
      "After removing an element from the queue\n",
      "2 3 4 5 \n"
     ]
    }
   ],
   "source": [
    "# Circular Queue implementation in Python\n",
    "\n",
    "\n",
    "class MyCircularQueue():\n",
    "\n",
    "    def __init__(self, k):\n",
    "        self.k = k\n",
    "        self.queue = [None] * k\n",
    "        self.head = self.tail = -1\n",
    "\n",
    "    # Insert an element into the circular queue\n",
    "    def enqueue(self, data):\n",
    "\n",
    "        if ((self.tail + 1) % self.k == self.head):\n",
    "            print(\"The circular queue is full\\n\")\n",
    "\n",
    "        elif (self.head == -1):\n",
    "            self.head = 0\n",
    "            self.tail = 0\n",
    "            self.queue[self.tail] = data\n",
    "        else:\n",
    "            self.tail = (self.tail + 1) % self.k\n",
    "            self.queue[self.tail] = data\n",
    "\n",
    "    # Delete an element from the circular queue\n",
    "    def dequeue(self):\n",
    "        if (self.head == -1):\n",
    "            print(\"The circular queue is empty\\n\")\n",
    "\n",
    "        elif (self.head == self.tail):\n",
    "            temp = self.queue[self.head]\n",
    "            self.head = -1\n",
    "            self.tail = -1\n",
    "            return temp\n",
    "        else:\n",
    "            temp = self.queue[self.head]\n",
    "            self.head = (self.head + 1) % self.k\n",
    "            return temp\n",
    "\n",
    "    def printCQueue(self):\n",
    "        if(self.head == -1):\n",
    "            print(\"No element in the circular queue\")\n",
    "\n",
    "        elif (self.tail >= self.head):\n",
    "            for i in range(self.head, self.tail + 1):\n",
    "                print(self.queue[i], end=\" \")\n",
    "            print()\n",
    "        else:\n",
    "            for i in range(self.head, self.k):\n",
    "                print(self.queue[i], end=\" \")\n",
    "            for i in range(0, self.tail + 1):\n",
    "                print(self.queue[i], end=\" \")\n",
    "            print()\n",
    "\n",
    "\n",
    "# Your MyCircularQueue object will be instantiated and called as such:\n",
    "obj = MyCircularQueue(5)\n",
    "obj.enqueue(1)\n",
    "obj.enqueue(2)\n",
    "obj.enqueue(3)\n",
    "obj.enqueue(4)\n",
    "obj.enqueue(5)\n",
    "print(\"Initial queue\")\n",
    "obj.printCQueue()\n",
    "\n",
    "obj.dequeue()\n",
    "print(\"After removing an element from the queue\")\n",
    "obj.printCQueue()\n"
   ]
  },
  {
   "cell_type": "markdown",
   "metadata": {},
   "source": [
    "**Circular Queue Complexity Analysis**\n",
    "\n",
    "The complexity of the enqueue and dequeue operations of a circular queue is O(1) for (array implementations).\n",
    "\n",
    "**Applications of Circular Queue**\n",
    "- CPU scheduling\n",
    "- Memory management\n",
    "- Traffic Management"
   ]
  },
  {
   "cell_type": "markdown",
   "metadata": {},
   "source": [
    "**Priority Queue**\n",
    "\n",
    "A priority queue is a special type of queue in which each element is associated with a priority value. And, elements are served on the basis of their priority. That is, higher priority elements are served first.\n",
    "\n",
    "However, if elements with the same priority occur, they are served according to their order in the queue.\n",
    "\n",
    "**Assigning Priority Value**\n",
    "\n",
    "Generally, the value of the element itself is considered for assigning the priority. For example,\n",
    "\n",
    "The element with the highest value is considered the highest priority element. However, in other cases, we can assume the element with the lowest value as the highest priority element.\n",
    "\n",
    "We can also set priorities according to our needs."
   ]
  },
  {
   "cell_type": "markdown",
   "metadata": {},
   "source": [
    "**Difference between Priority Queue and Normal Queue**\n",
    "\n",
    "In a queue, the first-in-first-out rule is implemented whereas, in a priority queue, the values are removed on the basis of priority. The element with the highest priority is removed first."
   ]
  },
  {
   "cell_type": "markdown",
   "metadata": {},
   "source": [
    "**Implementation of Priority Queue**\n",
    "Priority queue can be implemented using an array, a linked list, a heap data structure, or a binary search tree. Among these data structures, heap data structure provides an efficient implementation of priority queues.\n",
    "\n",
    "Hence, we will be using the heap data structure to implement the priority queue in this tutorial. A max-heap is implement is in the following operations. ![priority_queue](images/Priority_Queue_Time_complexity.png)"
   ]
  },
  {
   "cell_type": "markdown",
   "metadata": {},
   "source": [
    "**Priority Queue Operations**\n",
    "\n",
    "Basic operations of a priority queue are inserting, removing, and peeking elements.\n",
    "1. Inserting an Element into the Priority Queue\n",
    "Inserting an element into a priority queue (max-heap) is done by the following steps.\n",
    "- Insert the new element at the end of the tree. ![priority-queue](images/priority-queue-insert.png)"
   ]
  },
  {
   "cell_type": "markdown",
   "metadata": {},
   "source": [
    "- Heapify the tree\n",
    "\n",
    "![priority-queue-heap](images/priority-queue-heap.png)"
   ]
  },
  {
   "cell_type": "markdown",
   "metadata": {},
   "source": [
    "Algorithm for insertion of an element into priority queue (max-heap).\n"
   ]
  },
  {
   "cell_type": "code",
   "execution_count": 1,
   "metadata": {},
   "outputs": [
    {
     "data": {
      "text/plain": [
       "'If there is no node, \\n  create a newNode.\\nelse (a node is already present)\\n  insert the newNode at the end (last node from left to right.)\\n  \\nheapify the array\\nFor Min Heap, the above algorithm is modified so that parentNode is always smaller than newNode.\\n'"
      ]
     },
     "execution_count": 1,
     "metadata": {},
     "output_type": "execute_result"
    }
   ],
   "source": [
    "\"\"\"If there is no node, \n",
    "  create a newNode.\n",
    "else (a node is already present)\n",
    "  insert the newNode at the end (last node from left to right.)\n",
    "  \n",
    "heapify the array\n",
    "For Min Heap, the above algorithm is modified so that parentNode is always smaller than newNode.\n",
    "\"\"\""
   ]
  },
  {
   "cell_type": "markdown",
   "metadata": {},
   "source": [
    "2. Deleting an Element from the Priority Queue\n",
    "Deleting an element from a priority queue (max-heap) is done as follows:\n",
    "\n",
    "- Select the element to be deleted.\n",
    "\n",
    "![pq-delete](images/pq-delete-1_0.png)"
   ]
  },
  {
   "cell_type": "markdown",
   "metadata": {},
   "source": [
    "- Swap it with the last element.\n",
    "\n",
    "![pq-delete2](images/pq-delete-2_0.png)"
   ]
  },
  {
   "cell_type": "markdown",
   "metadata": {},
   "source": [
    "- Remove the last element.\n",
    "\n",
    "![pq-delete3](images/pq-delete-3.png)"
   ]
  },
  {
   "cell_type": "markdown",
   "metadata": {},
   "source": [
    "- Heapify the tree\n",
    "\n",
    "![pq-delete4](images/pq-delete-4.png)"
   ]
  },
  {
   "cell_type": "markdown",
   "metadata": {},
   "source": [
    "Algorithm for deletion of an element in the priority queue (max-heap)"
   ]
  },
  {
   "cell_type": "code",
   "execution_count": 3,
   "metadata": {},
   "outputs": [
    {
     "data": {
      "text/plain": [
       "'\\nIf nodeToBeDeleted is the leafNode\\n  remove the node\\nElse swap nodeToBeDeleted with the lastLeafNode\\n  remove noteToBeDeleted\\n   \\nheapify the array\\n'"
      ]
     },
     "execution_count": 3,
     "metadata": {},
     "output_type": "execute_result"
    }
   ],
   "source": [
    "\"\"\"\n",
    "If nodeToBeDeleted is the leafNode\n",
    "  remove the node\n",
    "Else swap nodeToBeDeleted with the lastLeafNode\n",
    "  remove noteToBeDeleted\n",
    "   \n",
    "heapify the array\n",
    "\"\"\""
   ]
  },
  {
   "cell_type": "markdown",
   "metadata": {},
   "source": [
    "For Min Heap, the above algorithm is modified so that the both childNodes are smaller than currentNode."
   ]
  },
  {
   "cell_type": "markdown",
   "metadata": {},
   "source": [
    "### Deque Data Structure"
   ]
  },
  {
   "cell_type": "markdown",
   "metadata": {},
   "source": [
    "Deque or Double Ended Queue is a type of queue in which insertion and removal of elements can either be performed from the front or the rear. Thus, it does not follow FIFO rule (First In First Out). ![dequeue](images/deque.png)"
   ]
  },
  {
   "cell_type": "markdown",
   "metadata": {},
   "source": [
    "Types of Deque\n",
    "\n",
    "- Input Restricted Deque\n",
    "\n",
    "  In this deque, input is restricted at a single end but allows deletion at both the ends.\n",
    "- Output Restricted Deque\n",
    "  \n",
    "  In this deque, output is restricted at a single end but allows insertion at both the ends.\n"
   ]
  },
  {
   "cell_type": "markdown",
   "metadata": {},
   "source": [
    "**Operations on a Deque**"
   ]
  },
  {
   "cell_type": "markdown",
   "metadata": {},
   "source": [
    "In a circular array, if the array is full, we start from the beginning.\n",
    "\n",
    "But in a linear array implementation, if the array is full, no more elements can be inserted. In each of the operations below, if the array is full, \"overflow message\" is thrown.\n",
    "\n",
    "Before performing the following operations, these steps are followed.\n",
    "\n",
    "1. Take an array (deque) of size n.\n",
    "2. Set two pointers at the first position and set front = -1 and rear = 0.\n",
    "![deque](images/deque-array.png)"
   ]
  },
  {
   "cell_type": "markdown",
   "metadata": {},
   "source": [
    "1. Insert at the Front\n",
    "This operation adds an element at the front.\n",
    "\n",
    "Check the position of front.\n",
    "![insert](images/deque-insert-front-1.png)"
   ]
  },
  {
   "cell_type": "markdown",
   "metadata": {},
   "source": [
    "2. If front < 1, reinitialize front = n-1 (last index).  \n",
    "![insert-2](images/deque-insert-front-2.png)"
   ]
  },
  {
   "cell_type": "markdown",
   "metadata": {},
   "source": [
    "3. Else, decrease front by 1.\n",
    "4. Add the new key 5 into array[front].\n",
    "![insert3](images/deque-insert-front-2.png)"
   ]
  },
  {
   "cell_type": "markdown",
   "metadata": {},
   "source": [
    "2. Insert at the Rear\n",
    "This operation adds an element to the rear.\n",
    "\n",
    "- Check if the array is full.\n",
    "![insert-rear1](images/deque-insert-rear-1.png)"
   ]
  },
  {
   "cell_type": "markdown",
   "metadata": {},
   "source": [
    "- If the deque is full, reinitialize rear = 0.\n",
    "- Else, increase rear by 1.\n",
    "![insert-rear2](images/deque-insert-rear-2.png)"
   ]
  },
  {
   "cell_type": "markdown",
   "metadata": {},
   "source": [
    "- Add the new key 5 into array[rear].\n",
    "![inser-rear3](images/deque-insert-rear-3.png)"
   ]
  },
  {
   "cell_type": "markdown",
   "metadata": {},
   "source": [
    "**3. Delete from the Front**\n"
   ]
  },
  {
   "cell_type": "markdown",
   "metadata": {},
   "source": [
    "The operation deletes an element from the front.\n",
    "\n",
    "- Check if the deque is empty.\n",
    "![delete-deque](images/deque-delete-front-1.png)\n",
    "- If the deque is empty (i.e. front = -1), deletion cannot be performed (underflow condition).\n",
    "- If the deque has only one element (i.e. front = rear), set front = -1 and rear = -1.\n",
    "- Else if front is at the end (i.e. front = n - 1), set go to the front front = 0.\n",
    "- Else, front = front + 1\n",
    "![delete-deque](images/deque-delete-front-2.png)"
   ]
  },
  {
   "cell_type": "markdown",
   "metadata": {},
   "source": [
    "**4. Delete from the Rear**\n",
    "\n",
    "This operation deletes an element from the rear.\n",
    "\n",
    "- Check if the deque is empty.\n",
    "![detete-deque-rear](images/deque-delete-rear-1.png)\n",
    "\n",
    "- If the deque is empty (i.e. front = -1), deletion cannot be performed (underflow condition).\n",
    "- If the deque has only one element (i.e. front = rear), set front = -1 and rear = -1, else follow the steps below.\n",
    "- If rear is at the front (i.e. rear = 0), set go to the front rear = n - 1.\n",
    "- Else, rear = rear - 1\n",
    "![detete-deque-rear](images/deque-delete-rear-2.png)"
   ]
  },
  {
   "cell_type": "markdown",
   "metadata": {},
   "source": [
    "**5. Check Empty**\n",
    "\n",
    "This operation checks if the deque is empty. If front = -1, the deque is empty.\n",
    "\n",
    "**6. Check Full**\n",
    "\n",
    "This operation checks if the deque is full. If front = 0 and rear = n - 1 OR front = rear + 1, the deque is full.\n",
    "\n"
   ]
  },
  {
   "cell_type": "code",
   "execution_count": 1,
   "metadata": {},
   "outputs": [
    {
     "name": "stdout",
     "output_type": "stream",
     "text": [
      "True\n",
      "4\n",
      "False\n",
      "11\n",
      "10\n",
      "[55, 7, 8, 5, 45]\n"
     ]
    }
   ],
   "source": [
    "# Deque implementaion in python\n",
    "\n",
    "class Deque:\n",
    "    def __init__(self):\n",
    "        self.items = []\n",
    "\n",
    "    def isEmpty(self):\n",
    "        return self.items == []\n",
    "\n",
    "    def addRear(self, item):\n",
    "        self.items.append(item)\n",
    "\n",
    "    def addFront(self, item):\n",
    "        self.items.insert(0, item)\n",
    "\n",
    "    def removeFront(self):\n",
    "        return self.items.pop(0)\n",
    "\n",
    "    def removeRear(self):\n",
    "        return self.items.pop()\n",
    "\n",
    "    def size(self):\n",
    "        return len(self.items)\n",
    "\n",
    "\n",
    "d = Deque()\n",
    "print(d.isEmpty())\n",
    "d.addRear(8)\n",
    "d.addRear(5)\n",
    "d.addFront(7)\n",
    "d.addFront(10)\n",
    "print(d.size())\n",
    "print(d.isEmpty())\n",
    "d.addRear(11)\n",
    "print(d.removeRear())\n",
    "print(d.removeFront())\n",
    "d.addFront(55)\n",
    "d.addRear(45)\n",
    "print(d.items)"
   ]
  },
  {
   "cell_type": "markdown",
   "metadata": {},
   "source": [
    "**Time Complexity**\n",
    "\n",
    "The time complexity of all the above operations is constant i.e. O(1).\n",
    "\n",
    "**Applications of Deque Data Structure**\n",
    "\n",
    "- In undo operations on software.\n",
    "- To store history in browsers.\n",
    "- For implementing both stacks and queues.\n",
    "\n"
   ]
  }
 ],
 "metadata": {
  "interpreter": {
   "hash": "15c9e7f3e4c79f058aa4ff0a9234015b2656b12cc7cead430c8d4992e190e17f"
  },
  "kernelspec": {
   "display_name": "Python 3.10.4 ('saurabh')",
   "language": "python",
   "name": "python3"
  },
  "language_info": {
   "codemirror_mode": {
    "name": "ipython",
    "version": 3
   },
   "file_extension": ".py",
   "mimetype": "text/x-python",
   "name": "python",
   "nbconvert_exporter": "python",
   "pygments_lexer": "ipython3",
   "version": "3.10.4"
  },
  "orig_nbformat": 4
 },
 "nbformat": 4,
 "nbformat_minor": 2
}
