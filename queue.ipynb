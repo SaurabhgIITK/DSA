{
 "cells": [
  {
   "cell_type": "markdown",
   "metadata": {},
   "source": [
    "## Queue\n",
    "A queue data structure is similar to the ticket queue outside a cinema hall, where the first person entering the queue is the first person who gets the ticket.\n",
    "\n",
    "Queue follows the First In First Out (FIFO) rule - the item that goes in first is the item that comes out first. \n",
    "![Queue](images/queue.png)"
   ]
  },
  {
   "cell_type": "markdown",
   "metadata": {},
   "source": [
    "In programming terms, putting items in the queue is called enqueue, and removing items from the queue is called dequeue.\n",
    "\n",
    "Basic Operations of Queue:\n",
    "A queue is an object (an abstract data structure - ADT) that allows the following operations:\n",
    "\n",
    "- Enqueue: Add an element to the end of the queue\n",
    "- Dequeue: Remove an element from the front of the queue\n",
    "- IsEmpty: Check if the queue is empty\n",
    "- IsFull: Check if the queue is full\n",
    "- Peek: Get the value of the front of the queue without removing it\n",
    "\n",
    "\n",
    "**Working of Queue**\n",
    "Queue operations work as follows:\n",
    "\n",
    "- two pointers FRONT and REAR\n",
    "- FRONT track the first element of the queue\n",
    "- REAR track the last element of the queue\n",
    "- initially, set value of FRONT and REAR to -1\n",
    "\n",
    "**Enqueue Operation**\n",
    "- check if the queue is full\n",
    "- for the first element, set the value of FRONT to 0\n",
    "- increase the REAR index by 1\n",
    "- add the new element in the position pointed to by REAR\n",
    "\n",
    "**Dequeue Operation**\n",
    "- check if the queue is empty\n",
    "- return the value pointed by FRONT\n",
    "- increase the FRONT index by 1\n",
    "- for the last element, reset the values of FRONT and REAR to -1\n",
    "\n",
    "![enqueue-dequeue](images/enqueue-dequeue.png)"
   ]
  },
  {
   "cell_type": "code",
   "execution_count": null,
   "metadata": {},
   "outputs": [],
   "source": []
  }
 ],
 "metadata": {
  "language_info": {
   "name": "python"
  },
  "orig_nbformat": 4
 },
 "nbformat": 4,
 "nbformat_minor": 2
}
