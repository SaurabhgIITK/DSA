{
 "cells": [
  {
   "cell_type": "markdown",
   "metadata": {},
   "source": [
    "## Queue\n",
    "A queue data structure is similar to the ticket queue outside a cinema hall, where the first person entering the queue is the first person who gets the ticket.\n",
    "\n",
    "Queue follows the First In First Out (FIFO) rule - the item that goes in first is the item that comes out first. \n",
    "![Queue](images/queue.png)"
   ]
  },
  {
   "cell_type": "markdown",
   "metadata": {},
   "source": [
    "In programming terms, putting items in the queue is called enqueue, and removing items from the queue is called dequeue.\n",
    "\n",
    "Basic Operations of Queue:\n",
    "A queue is an object (an abstract data structure - ADT) that allows the following operations:\n",
    "\n",
    "- Enqueue: Add an element to the end of the queue\n",
    "- Dequeue: Remove an element from the front of the queue\n",
    "- IsEmpty: Check if the queue is empty\n",
    "- IsFull: Check if the queue is full\n",
    "- Peek: Get the value of the front of the queue without removing it\n",
    "\n",
    "\n",
    "**Working of Queue**\n",
    "Queue operations work as follows:\n",
    "\n",
    "- two pointers FRONT and REAR\n",
    "- FRONT track the first element of the queue\n",
    "- REAR track the last element of the queue\n",
    "- initially, set value of FRONT and REAR to -1\n",
    "\n",
    "**Enqueue Operation**\n",
    "- check if the queue is full\n",
    "- for the first element, set the value of FRONT to 0\n",
    "- increase the REAR index by 1\n",
    "- add the new element in the position pointed to by REAR\n",
    "\n",
    "**Dequeue Operation**\n",
    "- check if the queue is empty\n",
    "- return the value pointed by FRONT\n",
    "- increase the FRONT index by 1\n",
    "- for the last element, reset the values of FRONT and REAR to -1\n",
    "\n",
    "![enqueue-dequeue](images/enqueue-dequeue.png)"
   ]
  },
  {
   "cell_type": "code",
   "execution_count": 1,
   "metadata": {},
   "outputs": [
    {
     "name": "stdout",
     "output_type": "stream",
     "text": [
      "[1, 2, 3, 4, 5]\n",
      "After removing an element\n",
      "[2, 3, 4, 5]\n"
     ]
    }
   ],
   "source": [
    "# Queue implementation in Python\n",
    "\n",
    "class Queue:\n",
    "\n",
    "    def __init__(self):\n",
    "        self.queue = []\n",
    "\n",
    "    # Add an element\n",
    "    def enqueue(self, item):\n",
    "        self.queue.append(item)\n",
    "\n",
    "    # Remove an element\n",
    "    def dequeue(self):\n",
    "        if len(self.queue) < 1:\n",
    "            return None\n",
    "        return self.queue.pop(0)\n",
    "\n",
    "    # Display  the queue\n",
    "    def display(self):\n",
    "        print(self.queue)\n",
    "\n",
    "    def size(self):\n",
    "        return len(self.queue)\n",
    "\n",
    "\n",
    "q = Queue()\n",
    "q.enqueue(1)\n",
    "q.enqueue(2)\n",
    "q.enqueue(3)\n",
    "q.enqueue(4)\n",
    "q.enqueue(5)\n",
    "\n",
    "q.display()\n",
    "\n",
    "q.dequeue()\n",
    "\n",
    "print(\"After removing an element\")\n",
    "q.display()\n"
   ]
  },
  {
   "cell_type": "markdown",
   "metadata": {},
   "source": [
    "### Limitations of Queue\n",
    "\n",
    "- After a bit of enqueuing and dequeuing, the size of the queue reduces.\n",
    "\n",
    "**Complexity Analysis**\n",
    "\n",
    "The complexity of enqueue and dequeue operations in a queue using an array is O(1). If you use pop(N) in python code, then the complexity might be O(n) depending on the position of the item to be popped.\n",
    "\n",
    "\n",
    "\n",
    "**Applications of Queue**\n",
    "\n",
    "- CPU scheduling, Disk Scheduling\n",
    "- When data is transferred asynchronously between two processes.The queue is used for synchronization. For example: IO Buffers, pipes, file IO, etc\n",
    "- Handling of interrupts in real-time systems.\n",
    "- Call Center phone systems use Queues to hold people calling them in order."
   ]
  },
  {
   "cell_type": "code",
   "execution_count": null,
   "metadata": {},
   "outputs": [],
   "source": []
  },
  {
   "cell_type": "code",
   "execution_count": null,
   "metadata": {},
   "outputs": [],
   "source": []
  }
 ],
 "metadata": {
  "interpreter": {
   "hash": "15c9e7f3e4c79f058aa4ff0a9234015b2656b12cc7cead430c8d4992e190e17f"
  },
  "kernelspec": {
   "display_name": "Python 3.10.4 ('saurabh')",
   "language": "python",
   "name": "python3"
  },
  "language_info": {
   "codemirror_mode": {
    "name": "ipython",
    "version": 3
   },
   "file_extension": ".py",
   "mimetype": "text/x-python",
   "name": "python",
   "nbconvert_exporter": "python",
   "pygments_lexer": "ipython3",
   "version": "3.10.4"
  },
  "orig_nbformat": 4
 },
 "nbformat": 4,
 "nbformat_minor": 2
}
