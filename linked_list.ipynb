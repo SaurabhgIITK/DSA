{
 "cells": [
  {
   "cell_type": "markdown",
   "metadata": {},
   "source": [
    "### Linked list Data Structure\n",
    "\n",
    "A linked list is a linear data structure that includes a series of connected nodes. Here, each node stores the data and the address of the next node. For example, ![concept](images/linked-list-concept.png) You have to start somewhere, so we give the address of the first node a special name called HEAD. Also, the last node in the linked list can be identified because its next portion points to NULL. Linked lists can be of multiple types: singly, doubly, and circular linked list.\n",
    "\n",
    "Note: You might have played the game Treasure Hunt, where each clue includes the information about the next clue. That is how the linked list operates.\n",
    "\n",
    "**Representation of Linked List**\n",
    "Let's see how each node of the linked list is represented. \n",
    "\n",
    "Each node consists:\n",
    "\n",
    "- A data item.\n",
    "- An address of another node.\n",
    "\n",
    "We wrap both the data item and the next node reference in a struct. \n",
    "![insert](images/linked-list-with-data.png)\n",
    "The power of a linked list comes from the ability to break the chain and rejoin it. E.g. if you wanted to put an element 4 between 1 and 2, the steps would be:\n",
    "\n",
    "- Create a new struct node and allocate memory to it.\n",
    "- Add its data value as 4\n",
    "- Point its next pointer to the struct node containing 2 as the data value\n",
    "- Change the next pointer of \"1\" to the node we just created.\n",
    "\n",
    "Doing something similar in an array would have required shifting the positions of all the subsequent elements."
   ]
  },
  {
   "cell_type": "markdown",
   "metadata": {},
   "source": [
    "**Linked List Utility**\n",
    "\n",
    "Lists are one of the most popular and efficient data structures, with implementation in every programming language like C, C++, Python, Java, and C#. Apart from that, linked lists are a great way to learn how pointers work. By practicing how to manipulate linked lists, you can prepare yourself to learn more advanced data structures like graphs and trees."
   ]
  },
  {
   "cell_type": "code",
   "execution_count": null,
   "metadata": {},
   "outputs": [],
   "source": [
    "# Linked list implementation in Python\n",
    "\n",
    "\n",
    "class Node:\n",
    "    # Creating a node\n",
    "    def __init__(self, item):\n",
    "        self.item = item\n",
    "        self.next = None\n",
    "\n",
    "\n",
    "class LinkedList:\n",
    "\n",
    "    def __init__(self):\n",
    "        self.head = None\n",
    "\n",
    "\n",
    "if __name__ == '__main__':\n",
    "\n",
    "    linked_list = LinkedList()\n",
    "\n",
    "    # Assign item values\n",
    "    linked_list.head = Node(1)\n",
    "    second = Node(2)\n",
    "    third = Node(3)\n",
    "\n",
    "    # Connect nodes\n",
    "    linked_list.head.next = second\n",
    "    second.next = third\n",
    "\n",
    "    # Print the linked list item\n",
    "    while linked_list.head != None:\n",
    "        print(linked_list.head.item, end=\" \")\n",
    "        linked_list.head = linked_list.head.next\n"
   ]
  },
  {
   "cell_type": "markdown",
   "metadata": {},
   "source": [
    "### Linked List Complexity\n",
    "#### Time Complexity\n",
    "\n",
    "**Worst case**\n",
    "\n",
    "Search\tO(n)\n",
    "\n",
    "Insert O(1)\n",
    "\n",
    "Deletion\tO(1)\n",
    "\n",
    "**Average Case**\n",
    "\n",
    "Search\tO(n)\n",
    "\n",
    "Insert O(1)\n",
    "\n",
    "Deletion O(1)\n",
    "\n",
    "**Space Complexity: O(n)**"
   ]
  },
  {
   "cell_type": "markdown",
   "metadata": {},
   "source": [
    "**Linked List Applications**\n",
    "\n",
    "- Dynamic memory allocation\n",
    "- Implemented in stack and queue\n",
    "- In undo functionality of softwares\n",
    "- Hash tables, Graphs\n"
   ]
  },
  {
   "cell_type": "markdown",
   "metadata": {},
   "source": []
  }
 ],
 "metadata": {
  "interpreter": {
   "hash": "15c9e7f3e4c79f058aa4ff0a9234015b2656b12cc7cead430c8d4992e190e17f"
  },
  "kernelspec": {
   "display_name": "Python 3.10.4 ('saurabh')",
   "language": "python",
   "name": "python3"
  },
  "language_info": {
   "name": "python",
   "version": "3.10.4"
  },
  "orig_nbformat": 4
 },
 "nbformat": 4,
 "nbformat_minor": 2
}
