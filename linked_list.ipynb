{
 "cells": [
  {
   "cell_type": "markdown",
   "metadata": {},
   "source": [
    "### Linked list Data Structure\n",
    "\n",
    "A linked list is a linear data structure that includes a series of connected nodes. Here, each node stores the data and the address of the next node. For example, ![concept](images/linked-list-concept.png)"
   ]
  },
  {
   "cell_type": "markdown",
   "metadata": {},
   "source": []
  }
 ],
 "metadata": {
  "language_info": {
   "name": "python"
  },
  "orig_nbformat": 4
 },
 "nbformat": 4,
 "nbformat_minor": 2
}
