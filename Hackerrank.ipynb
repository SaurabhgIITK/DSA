{
 "cells": [
  {
   "cell_type": "markdown",
   "metadata": {},
   "source": [
    "Reverse an array of integers."
   ]
  },
  {
   "cell_type": "code",
   "execution_count": 2,
   "metadata": {},
   "outputs": [
    {
     "name": "stdout",
     "output_type": "stream",
     "text": [
      "[6, 3, 1]\n"
     ]
    }
   ],
   "source": [
    "#!/bin/python3\n",
    "def reverseArray(a):\n",
    "    # Write your code here\n",
    "    return a[::-1]\n",
    "\n",
    "a = [1,3,6]\n",
    "print(reverseArray(a))"
   ]
  },
  {
   "cell_type": "markdown",
   "metadata": {},
   "source": []
  }
 ],
 "metadata": {
  "interpreter": {
   "hash": "15c9e7f3e4c79f058aa4ff0a9234015b2656b12cc7cead430c8d4992e190e17f"
  },
  "kernelspec": {
   "display_name": "Python 3.10.4 ('saurabh')",
   "language": "python",
   "name": "python3"
  },
  "language_info": {
   "codemirror_mode": {
    "name": "ipython",
    "version": 3
   },
   "file_extension": ".py",
   "mimetype": "text/x-python",
   "name": "python",
   "nbconvert_exporter": "python",
   "pygments_lexer": "ipython3",
   "version": "3.10.4"
  },
  "orig_nbformat": 4
 },
 "nbformat": 4,
 "nbformat_minor": 2
}
