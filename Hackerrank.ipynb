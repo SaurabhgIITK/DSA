{
 "cells": [
  {
   "cell_type": "markdown",
   "metadata": {},
   "source": [
    "Reverse an array of integers."
   ]
  },
  {
   "cell_type": "code",
   "execution_count": 2,
   "metadata": {},
   "outputs": [
    {
     "name": "stdout",
     "output_type": "stream",
     "text": [
      "[6, 3, 1]\n"
     ]
    }
   ],
   "source": [
    "#!/bin/python3\n",
    "def reverseArray(a):\n",
    "    # Write your code here\n",
    "    return a[::-1]\n",
    "\n",
    "a = [1,3,6]\n",
    "print(reverseArray(a))"
   ]
  },
  {
   "cell_type": "markdown",
   "metadata": {},
   "source": [
    "Stack Data Structure"
   ]
  },
  {
   "cell_type": "code",
   "execution_count": 3,
   "metadata": {},
   "outputs": [
    {
     "name": "stdout",
     "output_type": "stream",
     "text": [
      "pushed item: 1\n",
      "pushed item: 2\n",
      "pushed item: 3\n",
      "pushed item: 4\n",
      "popped item: 4\n",
      "stack after popping an element: ['1', '2', '3']\n"
     ]
    }
   ],
   "source": [
    "# Stack implementation in python\n",
    "\n",
    "\n",
    "# Creating a stack\n",
    "def create_stack():\n",
    "    stack = []\n",
    "    return stack\n",
    "\n",
    "\n",
    "# Creating an empty stack\n",
    "def check_empty(stack):\n",
    "    return len(stack) == 0\n",
    "\n",
    "\n",
    "# Adding items into the stack\n",
    "def push(stack, item):\n",
    "    stack.append(item)\n",
    "    print(\"pushed item: \" + item)\n",
    "\n",
    "\n",
    "# Removing an element from the stack\n",
    "def pop(stack):\n",
    "    if (check_empty(stack)):\n",
    "        return \"stack is empty\"\n",
    "\n",
    "    return stack.pop()\n",
    "\n",
    "\n",
    "stack = create_stack()\n",
    "push(stack, str(1))\n",
    "push(stack, str(2))\n",
    "push(stack, str(3))\n",
    "push(stack, str(4))\n",
    "print(\"popped item: \" + pop(stack))\n",
    "print(\"stack after popping an element: \" + str(stack))\n"
   ]
  },
  {
   "cell_type": "code",
   "execution_count": null,
   "metadata": {},
   "outputs": [],
   "source": []
  }
 ],
 "metadata": {
  "interpreter": {
   "hash": "15c9e7f3e4c79f058aa4ff0a9234015b2656b12cc7cead430c8d4992e190e17f"
  },
  "kernelspec": {
   "display_name": "Python 3.10.4 ('saurabh')",
   "language": "python",
   "name": "python3"
  },
  "language_info": {
   "codemirror_mode": {
    "name": "ipython",
    "version": 3
   },
   "file_extension": ".py",
   "mimetype": "text/x-python",
   "name": "python",
   "nbconvert_exporter": "python",
   "pygments_lexer": "ipython3",
   "version": "3.10.4"
  },
  "orig_nbformat": 4
 },
 "nbformat": 4,
 "nbformat_minor": 2
}
